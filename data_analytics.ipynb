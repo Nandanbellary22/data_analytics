{
 "cells": [
  {
   "cell_type": "code",
   "execution_count": 1,
   "id": "9b1522df-8b47-43e4-995e-cf43ca03030a",
   "metadata": {},
   "outputs": [
    {
     "name": "stdout",
     "output_type": "stream",
     "text": [
      "Requirement already satisfied: pandas in c:\\users\\hp\\anaconda3\\lib\\site-packages (2.2.3)\n",
      "Requirement already satisfied: matplotlib in c:\\users\\hp\\anaconda3\\lib\\site-packages (3.10.0)\n",
      "Requirement already satisfied: numpy>=1.26.0 in c:\\users\\hp\\anaconda3\\lib\\site-packages (from pandas) (2.1.3)\n",
      "Requirement already satisfied: python-dateutil>=2.8.2 in c:\\users\\hp\\anaconda3\\lib\\site-packages (from pandas) (2.9.0.post0)\n",
      "Requirement already satisfied: pytz>=2020.1 in c:\\users\\hp\\anaconda3\\lib\\site-packages (from pandas) (2024.1)\n",
      "Requirement already satisfied: tzdata>=2022.7 in c:\\users\\hp\\anaconda3\\lib\\site-packages (from pandas) (2025.2)\n",
      "Requirement already satisfied: contourpy>=1.0.1 in c:\\users\\hp\\anaconda3\\lib\\site-packages (from matplotlib) (1.3.1)\n",
      "Requirement already satisfied: cycler>=0.10 in c:\\users\\hp\\anaconda3\\lib\\site-packages (from matplotlib) (0.11.0)\n",
      "Requirement already satisfied: fonttools>=4.22.0 in c:\\users\\hp\\anaconda3\\lib\\site-packages (from matplotlib) (4.55.3)\n",
      "Requirement already satisfied: kiwisolver>=1.3.1 in c:\\users\\hp\\anaconda3\\lib\\site-packages (from matplotlib) (1.4.8)\n",
      "Requirement already satisfied: packaging>=20.0 in c:\\users\\hp\\anaconda3\\lib\\site-packages (from matplotlib) (24.2)\n",
      "Requirement already satisfied: pillow>=8 in c:\\users\\hp\\anaconda3\\lib\\site-packages (from matplotlib) (11.1.0)\n",
      "Requirement already satisfied: pyparsing>=2.3.1 in c:\\users\\hp\\anaconda3\\lib\\site-packages (from matplotlib) (3.2.0)\n",
      "Requirement already satisfied: six>=1.5 in c:\\users\\hp\\anaconda3\\lib\\site-packages (from python-dateutil>=2.8.2->pandas) (1.17.0)\n"
     ]
    }
   ],
   "source": [
    "!pip install pandas matplotlib\n",
    "import pandas as pd\n",
    "import numpy as np\n",
    "import matplotlib.pyplot as plt\n"
   ]
  },
  {
   "cell_type": "code",
   "execution_count": 3,
   "id": "30033806-5988-4d56-bd66-3e69f482bdf1",
   "metadata": {},
   "outputs": [
    {
     "name": "stdout",
     "output_type": "stream",
     "text": [
      " CSV file created successfully!\n"
     ]
    },
    {
     "data": {
      "text/html": [
       "<div>\n",
       "<style scoped>\n",
       "    .dataframe tbody tr th:only-of-type {\n",
       "        vertical-align: middle;\n",
       "    }\n",
       "\n",
       "    .dataframe tbody tr th {\n",
       "        vertical-align: top;\n",
       "    }\n",
       "\n",
       "    .dataframe thead th {\n",
       "        text-align: right;\n",
       "    }\n",
       "</style>\n",
       "<table border=\"1\" class=\"dataframe\">\n",
       "  <thead>\n",
       "    <tr style=\"text-align: right;\">\n",
       "      <th></th>\n",
       "      <th>Date</th>\n",
       "      <th>Region</th>\n",
       "      <th>Product</th>\n",
       "      <th>Units</th>\n",
       "      <th>UnitPrice</th>\n",
       "      <th>Revenue</th>\n",
       "    </tr>\n",
       "  </thead>\n",
       "  <tbody>\n",
       "    <tr>\n",
       "      <th>0</th>\n",
       "      <td>2024-01-01</td>\n",
       "      <td>West</td>\n",
       "      <td>Widget B</td>\n",
       "      <td>15</td>\n",
       "      <td>89.307644</td>\n",
       "      <td>1339.614655</td>\n",
       "    </tr>\n",
       "    <tr>\n",
       "      <th>1</th>\n",
       "      <td>2024-01-02</td>\n",
       "      <td>North</td>\n",
       "      <td>Widget B</td>\n",
       "      <td>3</td>\n",
       "      <td>116.457519</td>\n",
       "      <td>349.372558</td>\n",
       "    </tr>\n",
       "    <tr>\n",
       "      <th>2</th>\n",
       "      <td>2024-01-03</td>\n",
       "      <td>East</td>\n",
       "      <td>Widget A</td>\n",
       "      <td>1</td>\n",
       "      <td>64.412672</td>\n",
       "      <td>64.412672</td>\n",
       "    </tr>\n",
       "    <tr>\n",
       "      <th>3</th>\n",
       "      <td>2024-01-04</td>\n",
       "      <td>West</td>\n",
       "      <td>Gadget C</td>\n",
       "      <td>14</td>\n",
       "      <td>119.985183</td>\n",
       "      <td>1679.792569</td>\n",
       "    </tr>\n",
       "    <tr>\n",
       "      <th>4</th>\n",
       "      <td>2024-01-05</td>\n",
       "      <td>West</td>\n",
       "      <td>Widget A</td>\n",
       "      <td>13</td>\n",
       "      <td>56.110490</td>\n",
       "      <td>729.436372</td>\n",
       "    </tr>\n",
       "  </tbody>\n",
       "</table>\n",
       "</div>"
      ],
      "text/plain": [
       "        Date Region   Product  Units   UnitPrice      Revenue\n",
       "0 2024-01-01   West  Widget B     15   89.307644  1339.614655\n",
       "1 2024-01-02  North  Widget B      3  116.457519   349.372558\n",
       "2 2024-01-03   East  Widget A      1   64.412672    64.412672\n",
       "3 2024-01-04   West  Gadget C     14  119.985183  1679.792569\n",
       "4 2024-01-05   West  Widget A     13   56.110490   729.436372"
      ]
     },
     "execution_count": 3,
     "metadata": {},
     "output_type": "execute_result"
    }
   ],
   "source": [
    "import pandas as pd\n",
    "import numpy as np\n",
    "\n",
    "# Create sample data\n",
    "data = {\n",
    "    \"Date\": pd.date_range(start=\"2024-01-01\", periods=20, freq=\"D\"),\n",
    "    \"Region\": np.random.choice([\"North\", \"South\", \"East\", \"West\"], 20),\n",
    "    \"Product\": np.random.choice([\"Widget A\", \"Widget B\", \"Gadget C\"], 20),\n",
    "    \"Units\": np.random.randint(1, 20, 20),\n",
    "    \"UnitPrice\": np.random.uniform(10, 200, 20)\n",
    "}\n",
    "\n",
    "df = pd.DataFrame(data)\n",
    "df[\"Revenue\"] = df[\"Units\"] * df[\"UnitPrice\"]\n",
    "\n",
    "# Save to CSV\n",
    "df.to_csv(\"sales_data.csv\", index=False)\n",
    "print(\" CSV file created successfully!\")\n",
    "df.head()\n"
   ]
  },
  {
   "cell_type": "code",
   "execution_count": 4,
   "id": "964bd12b-5848-4552-925c-6f482d8ce121",
   "metadata": {},
   "outputs": [
    {
     "name": "stdout",
     "output_type": "stream",
     "text": [
      "         Date Region   Product  Units   UnitPrice      Revenue\n",
      "0  2024-01-01   West  Widget B     15   89.307644  1339.614655\n",
      "1  2024-01-02  North  Widget B      3  116.457519   349.372558\n",
      "2  2024-01-03   East  Widget A      1   64.412672    64.412672\n",
      "3  2024-01-04   West  Gadget C     14  119.985183  1679.792569\n",
      "4  2024-01-05   West  Widget A     13   56.110490   729.436372\n"
     ]
    }
   ],
   "source": [
    "df = pd.read_csv(\"sales_data.csv\")\n",
    "print(df.head())\n"
   ]
  },
  {
   "cell_type": "code",
   "execution_count": 5,
   "id": "44a93330-2f0c-49f7-8f01-05b2164b798a",
   "metadata": {},
   "outputs": [
    {
     "name": "stdout",
     "output_type": "stream",
     "text": [
      "Region\n",
      "East     5267.793057\n",
      "North    4017.188852\n",
      "South     434.622262\n",
      "West     6466.607267\n",
      "Name: Revenue, dtype: float64\n"
     ]
    }
   ],
   "source": [
    "region_sales = df.groupby(\"Region\")[\"Revenue\"].sum()\n",
    "print(region_sales)\n"
   ]
  },
  {
   "cell_type": "code",
   "execution_count": 6,
   "id": "60146eaa-a7a5-49de-b9c2-f417fd8b43b1",
   "metadata": {},
   "outputs": [
    {
     "name": "stdout",
     "output_type": "stream",
     "text": [
      "Product\n",
      "Gadget C    66\n",
      "Widget A    61\n",
      "Widget B    47\n",
      "Name: Units, dtype: int64\n"
     ]
    }
   ],
   "source": [
    "product_sales = df.groupby(\"Product\")[\"Units\"].sum()\n",
    "print(product_sales)\n"
   ]
  },
  {
   "cell_type": "code",
   "execution_count": 7,
   "id": "9f65bcb0-4505-422f-91ee-f120c195c06f",
   "metadata": {},
   "outputs": [
    {
     "data": {
      "image/png": "[encoded data removed]",
      "text/plain": [
       "<Figure size 640x480 with 1 Axes>"
      ]
     },
     "metadata": {},
     "output_type": "display_data"
    },
    {
     "data": {
      "image/png": "[encoded data removed]",
      "text/plain": [
       "<Figure size 640x480 with 1 Axes>"
      ]
     },
     "metadata": {},
     "output_type": "display_data"
    }
   ],
   "source": [
    "import matplotlib.pyplot as plt\n",
    "\n",
    "# Bar chart for region revenue\n",
    "region_sales.plot(kind=\"bar\", title=\"Total Revenue by Region\")\n",
    "plt.xlabel(\"Region\")\n",
    "plt.ylabel(\"Revenue\")\n",
    "plt.show()\n",
    "\n",
    "# Bar chart for product units\n",
    "product_sales.plot(kind=\"bar\", title=\"Units Sold by Product\", color=\"orange\")\n",
    "plt.xlabel(\"Product\")\n",
    "plt.ylabel(\"Units\")\n",
    "plt.show()\n"
   ]
  }
 ],
 "metadata": {
  "kernelspec": {
   "display_name": "Python [conda env:base] *",
   "language": "python",
   "name": "conda-base-py"
  },
  "language_info": {
   "codemirror_mode": {
    "name": "ipython",
    "version": 3
   },
   "file_extension": ".py",
   "mimetype": "text/x-python",
   "name": "python",
   "nbconvert_exporter": "python",
   "pygments_lexer": "ipython3",
   "version": "3.13.5"
  }
 },
 "nbformat": 4,
 "nbformat_minor": 5
}
